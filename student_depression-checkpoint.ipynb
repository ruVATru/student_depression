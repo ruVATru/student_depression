{
 "cells": [
  {
   "cell_type": "markdown",
   "metadata": {},
   "source": [
    "## Import Required Libraries"
   ]
  },
  {
   "cell_type": "code",
   "execution_count": 57,
   "metadata": {},
   "outputs": [],
   "source": [
    "import pandas as pd\n",
    "import cPickle as pickle\n",
    "from sklearn.model_selection import train_test_split\n",
    "from sklearn.preprocessing import  LabelEncoder\n",
    "from lightgbm import LGBMClassifier\n",
    "from sklearn.metrics import accuracy_score, f1_score"
   ]
  },
  {
   "cell_type": "code",
   "execution_count": null,
   "metadata": {},
   "outputs": [],
   "source": []
  },
  {
   "cell_type": "markdown",
   "metadata": {},
   "source": [
    "## Load dataset with pandas"
   ]
  },
  {
   "cell_type": "code",
   "execution_count": 2,
   "metadata": {},
   "outputs": [],
   "source": [
    "dataset = pd.read_csv('dataset_sd.csv')"
   ]
  },
  {
   "cell_type": "code",
   "execution_count": null,
   "metadata": {},
   "outputs": [],
   "source": []
  },
  {
   "cell_type": "markdown",
   "metadata": {},
   "source": [
    "## View top-5 rows of dataset"
   ]
  },
  {
   "cell_type": "code",
   "execution_count": 3,
   "metadata": {},
   "outputs": [
    {
     "data": {
      "text/html": [
       "<div>\n",
       "<style scoped>\n",
       "    .dataframe tbody tr th:only-of-type {\n",
       "        vertical-align: middle;\n",
       "    }\n",
       "\n",
       "    .dataframe tbody tr th {\n",
       "        vertical-align: top;\n",
       "    }\n",
       "\n",
       "    .dataframe thead th {\n",
       "        text-align: right;\n",
       "    }\n",
       "</style>\n",
       "<table border=\"1\" class=\"dataframe\">\n",
       "  <thead>\n",
       "    <tr style=\"text-align: right;\">\n",
       "      <th></th>\n",
       "      <th>Branch</th>\n",
       "      <th>Year</th>\n",
       "      <th>College</th>\n",
       "      <th>Gender</th>\n",
       "      <th>Do you feel Depressed?</th>\n",
       "      <th>When do you get up in the morning?</th>\n",
       "      <th>What is your sleeping posture?</th>\n",
       "      <th>You start your day with?</th>\n",
       "      <th>How do you work out everyday?</th>\n",
       "      <th>How much time do you spend in exercising daily?</th>\n",
       "      <th>...</th>\n",
       "      <th>Have you often felt like crying for no reason?</th>\n",
       "      <th>How often does your grades and college work suffer because of the amount of time you spend online?</th>\n",
       "      <th>How do you feel after seeing post on success of people on social sites?</th>\n",
       "      <th>How often do you get angry at small things ?</th>\n",
       "      <th>Do you often feel restless and can't keep still ?</th>\n",
       "      <th>Do you feel happy?</th>\n",
       "      <th>Have you blamed yourself unnecessarily when things went wrong?</th>\n",
       "      <th>Do you prefer to stay at home,rather than going out and doing new things?</th>\n",
       "      <th>Are you satisfied with your life?</th>\n",
       "      <th>Do you think about suicide ?</th>\n",
       "    </tr>\n",
       "  </thead>\n",
       "  <tbody>\n",
       "    <tr>\n",
       "      <th>0</th>\n",
       "      <td>IT</td>\n",
       "      <td>2</td>\n",
       "      <td>BIT</td>\n",
       "      <td>Male</td>\n",
       "      <td>Several days</td>\n",
       "      <td>6 AM- 7AM</td>\n",
       "      <td>Facing right side</td>\n",
       "      <td>Taking tea</td>\n",
       "      <td>None</td>\n",
       "      <td>None</td>\n",
       "      <td>...</td>\n",
       "      <td>Not at all</td>\n",
       "      <td>A little of time</td>\n",
       "      <td>Neutral</td>\n",
       "      <td>Some of the time</td>\n",
       "      <td>Not at all</td>\n",
       "      <td>Most of the time</td>\n",
       "      <td>Some of the time</td>\n",
       "      <td>Some of the time</td>\n",
       "      <td>Some of the time</td>\n",
       "      <td>No</td>\n",
       "    </tr>\n",
       "    <tr>\n",
       "      <th>1</th>\n",
       "      <td>IT</td>\n",
       "      <td>2</td>\n",
       "      <td>BIT</td>\n",
       "      <td>Female</td>\n",
       "      <td>Several days</td>\n",
       "      <td>7AM-8AM</td>\n",
       "      <td>Facing right side</td>\n",
       "      <td>Drinking cold water</td>\n",
       "      <td>Gymnasium</td>\n",
       "      <td>&gt; half an hour</td>\n",
       "      <td>...</td>\n",
       "      <td>Some of the time</td>\n",
       "      <td>Most of the time</td>\n",
       "      <td>Happy and motivated</td>\n",
       "      <td>Some of the time</td>\n",
       "      <td>A little of time</td>\n",
       "      <td>Most of the time</td>\n",
       "      <td>Some of the time</td>\n",
       "      <td>A little of time</td>\n",
       "      <td>A little of time</td>\n",
       "      <td>No</td>\n",
       "    </tr>\n",
       "    <tr>\n",
       "      <th>2</th>\n",
       "      <td>IT</td>\n",
       "      <td>2</td>\n",
       "      <td>BIT</td>\n",
       "      <td>Male</td>\n",
       "      <td>Not at all</td>\n",
       "      <td>After 8AM</td>\n",
       "      <td>Facing left sie</td>\n",
       "      <td>Drinking cold water</td>\n",
       "      <td>football</td>\n",
       "      <td>&gt; half an hour</td>\n",
       "      <td>...</td>\n",
       "      <td>Some of the time</td>\n",
       "      <td>Some of the time</td>\n",
       "      <td>Happy and motivated</td>\n",
       "      <td>Most of the time</td>\n",
       "      <td>Not at all</td>\n",
       "      <td>Most of the time</td>\n",
       "      <td>Not at all</td>\n",
       "      <td>Most of the time</td>\n",
       "      <td>Most of the time</td>\n",
       "      <td>No</td>\n",
       "    </tr>\n",
       "    <tr>\n",
       "      <th>3</th>\n",
       "      <td>IT</td>\n",
       "      <td>2</td>\n",
       "      <td>BIT</td>\n",
       "      <td>Male</td>\n",
       "      <td>Several days</td>\n",
       "      <td>7AM-8AM</td>\n",
       "      <td>Back</td>\n",
       "      <td>Drinking cold water</td>\n",
       "      <td>Gymnasium</td>\n",
       "      <td>15 min</td>\n",
       "      <td>...</td>\n",
       "      <td>A little of time</td>\n",
       "      <td>A little of time</td>\n",
       "      <td>Neutral</td>\n",
       "      <td>Some of the time</td>\n",
       "      <td>A little of time</td>\n",
       "      <td>Most of the time</td>\n",
       "      <td>Some of the time</td>\n",
       "      <td>A little of time</td>\n",
       "      <td>Most of the time</td>\n",
       "      <td>No</td>\n",
       "    </tr>\n",
       "    <tr>\n",
       "      <th>4</th>\n",
       "      <td>IT</td>\n",
       "      <td>2</td>\n",
       "      <td>BIT</td>\n",
       "      <td>Male</td>\n",
       "      <td>Several days</td>\n",
       "      <td>6 AM- 7AM</td>\n",
       "      <td>Back</td>\n",
       "      <td>Drinking cold water</td>\n",
       "      <td>Gymnasium</td>\n",
       "      <td>&gt; half an hour</td>\n",
       "      <td>...</td>\n",
       "      <td>Not at all</td>\n",
       "      <td>Some of the time</td>\n",
       "      <td>Jealous</td>\n",
       "      <td>Some of the time</td>\n",
       "      <td>A little of time</td>\n",
       "      <td>Some of the time</td>\n",
       "      <td>Not very often</td>\n",
       "      <td>A little of time</td>\n",
       "      <td>Some of the time</td>\n",
       "      <td>No</td>\n",
       "    </tr>\n",
       "  </tbody>\n",
       "</table>\n",
       "<p>5 rows × 41 columns</p>\n",
       "</div>"
      ],
      "text/plain": [
       "  Branch  Year College  Gender Do you feel Depressed?  \\\n",
       "0     IT     2     BIT    Male           Several days   \n",
       "1     IT     2     BIT  Female           Several days   \n",
       "2     IT     2     BIT    Male             Not at all   \n",
       "3     IT     2     BIT    Male           Several days   \n",
       "4     IT     2     BIT    Male           Several days   \n",
       "\n",
       "  When do you get up in the morning? What is your sleeping posture?  \\\n",
       "0                          6 AM- 7AM              Facing right side   \n",
       "1                            7AM-8AM              Facing right side   \n",
       "2                          After 8AM                Facing left sie   \n",
       "3                            7AM-8AM                           Back   \n",
       "4                          6 AM- 7AM                           Back   \n",
       "\n",
       "  You start your day with? How do you work out everyday?  \\\n",
       "0               Taking tea                          None   \n",
       "1      Drinking cold water                     Gymnasium   \n",
       "2      Drinking cold water                      football   \n",
       "3      Drinking cold water                     Gymnasium   \n",
       "4      Drinking cold water                     Gymnasium   \n",
       "\n",
       "  How much time do you spend in exercising daily?  \\\n",
       "0                                            None   \n",
       "1                                  > half an hour   \n",
       "2                                  > half an hour   \n",
       "3                                          15 min   \n",
       "4                                  > half an hour   \n",
       "\n",
       "              ...              Have you often felt like crying for no reason?  \\\n",
       "0             ...                                                  Not at all   \n",
       "1             ...                                            Some of the time   \n",
       "2             ...                                            Some of the time   \n",
       "3             ...                                            A little of time   \n",
       "4             ...                                                  Not at all   \n",
       "\n",
       "  How often does your grades and college work suffer because of the amount of time you spend online?  \\\n",
       "0                                   A little of time                                                   \n",
       "1                                   Most of the time                                                   \n",
       "2                                   Some of the time                                                   \n",
       "3                                   A little of time                                                   \n",
       "4                                   Some of the time                                                   \n",
       "\n",
       "  How do you feel after seeing post on success of people on social sites?  \\\n",
       "0                                            Neutral                        \n",
       "1                                Happy and motivated                        \n",
       "2                                Happy and motivated                        \n",
       "3                                            Neutral                        \n",
       "4                                            Jealous                        \n",
       "\n",
       "  How often do you get angry at small things ?  \\\n",
       "0                             Some of the time   \n",
       "1                             Some of the time   \n",
       "2                             Most of the time   \n",
       "3                             Some of the time   \n",
       "4                             Some of the time   \n",
       "\n",
       "  Do you often feel restless and can't keep still ? Do you feel happy?  \\\n",
       "0                                        Not at all   Most of the time   \n",
       "1                                  A little of time   Most of the time   \n",
       "2                                        Not at all   Most of the time   \n",
       "3                                  A little of time   Most of the time   \n",
       "4                                  A little of time   Some of the time   \n",
       "\n",
       "  Have you blamed yourself unnecessarily when things went wrong?  \\\n",
       "0                                   Some of the time               \n",
       "1                                   Some of the time               \n",
       "2                                         Not at all               \n",
       "3                                   Some of the time               \n",
       "4                                     Not very often               \n",
       "\n",
       "  Do you prefer to stay at home,rather than going out and doing new things?  \\\n",
       "0                                   Some of the time                          \n",
       "1                                   A little of time                          \n",
       "2                                   Most of the time                          \n",
       "3                                   A little of time                          \n",
       "4                                   A little of time                          \n",
       "\n",
       "  Are you satisfied with your life? Do you think about suicide ?  \n",
       "0                  Some of the time                           No  \n",
       "1                  A little of time                           No  \n",
       "2                  Most of the time                           No  \n",
       "3                  Most of the time                           No  \n",
       "4                  Some of the time                           No  \n",
       "\n",
       "[5 rows x 41 columns]"
      ]
     },
     "execution_count": 3,
     "metadata": {},
     "output_type": "execute_result"
    }
   ],
   "source": [
    "dataset.head(5)"
   ]
  },
  {
   "cell_type": "code",
   "execution_count": null,
   "metadata": {},
   "outputs": [],
   "source": []
  },
  {
   "cell_type": "markdown",
   "metadata": {},
   "source": [
    "## Get List of all columns"
   ]
  },
  {
   "cell_type": "code",
   "execution_count": 66,
   "metadata": {},
   "outputs": [
    {
     "name": "stdout",
     "output_type": "stream",
     "text": [
      "Columns of dataset \n",
      "Index([u'Branch', u'Year', u'College', u'Gender', u'Do you feel Depressed?',\n",
      "       u'When do you get up in the morning?',\n",
      "       u'What is your sleeping posture?',\n",
      "       u'How much time do you spend in exercising daily?',\n",
      "       u'Do you take afternoon nap?',\n",
      "       u'What is average usage duration of electronic gadgets by you?',\n",
      "       u'What is your sleeping pattern?',\n",
      "       u'Do you have trouble in falling asleep?',\n",
      "       u'Do you feel that you are useful and needed?',\n",
      "       u'Moving or speaking so slowly that other people could have noticed',\n",
      "       u'Poor Appetite or overeating',\n",
      "       u'Do you have gradual loss or gain in weight?',\n",
      "       u'Do you feel more irritable than usual?',\n",
      "       u'Do you get tired for no reason?', u'Have you had nausea?',\n",
      "       u'Do you feel that life isn't worth living?',\n",
      "       u'Things have been getting on top of me',\n",
      "       u'Do you frequently smoke or drink?',\n",
      "       u'Do you often suffer from constipation?', u'Relationship status',\n",
      "       u'Do you worry about the past?', u'Do you feel Nostalgic?',\n",
      "       u'Have you often felt like crying for no reason?',\n",
      "       u'How often does your grades and college work suffer because of the amount of time you spend online?',\n",
      "       u'How do you feel after seeing post on success of people on social sites?',\n",
      "       u'How often do you get angry at small things ?',\n",
      "       u'Do you often feel restless and can't keep still ?',\n",
      "       u'Do you feel happy?',\n",
      "       u'Have you blamed yourself unnecessarily when things went wrong?',\n",
      "       u'Do you prefer to stay at home,rather than going out and doing new things?',\n",
      "       u'Are you satisfied with your life?', u'Do you think about suicide ?'],\n",
      "      dtype='object')\n"
     ]
    }
   ],
   "source": [
    "print 'Columns of dataset \\n',dataset.columns"
   ]
  },
  {
   "cell_type": "code",
   "execution_count": null,
   "metadata": {},
   "outputs": [],
   "source": []
  },
  {
   "cell_type": "markdown",
   "metadata": {},
   "source": [
    "## Get Unique value counts of each column in dataset"
   ]
  },
  {
   "cell_type": "code",
   "execution_count": 63,
   "metadata": {},
   "outputs": [
    {
     "name": "stdout",
     "output_type": "stream",
     "text": [
      "column Unique_column_count\n",
      "Branch 8\n",
      "Year 4\n",
      "College 2\n",
      "Gender 2\n",
      "Do you feel Depressed? 4\n",
      "When do you get up in the morning? 4\n",
      "What is your sleeping posture? 5\n",
      "How much time do you spend in exercising daily? 4\n",
      "Do you take afternoon nap? 2\n",
      "What is average usage duration of electronic gadgets by you? 4\n",
      "What is your sleeping pattern? 4\n",
      "Do you have trouble in falling asleep? 7\n",
      "Do you feel that you are useful and needed? 4\n",
      "Moving or speaking so slowly that other people could have noticed 4\n",
      "Poor Appetite or overeating 4\n",
      "Do you have gradual loss or gain in weight? 3\n",
      "Do you feel more irritable than usual? 4\n",
      "Do you get tired for no reason? 4\n",
      "Have you had nausea? 8\n",
      "Do you feel that life isn't worth living? 4\n",
      "Things have been getting on top of me 4\n",
      "Do you frequently smoke or drink? 4\n",
      "Do you often suffer from constipation? 4\n",
      "Relationship status 3\n",
      "Do you worry about the past? 4\n",
      "Do you feel Nostalgic? 4\n",
      "Have you often felt like crying for no reason? 4\n",
      "How often does your grades and college work suffer because of the amount of time you spend online? 4\n",
      "How do you feel after seeing post on success of people on social sites? 4\n",
      "How often do you get angry at small things ? 4\n",
      "Do you often feel restless and can't keep still ? 4\n",
      "Do you feel happy? 4\n",
      "Have you blamed yourself unnecessarily when things went wrong? 5\n",
      "Do you prefer to stay at home,rather than going out and doing new things? 5\n",
      "Are you satisfied with your life? 4\n",
      "Do you think about suicide ? 3\n"
     ]
    }
   ],
   "source": [
    "print 'column Unique_column_count'\n",
    "for col in dataset:\n",
    "    print col, len(dataset[col].unique())"
   ]
  },
  {
   "cell_type": "code",
   "execution_count": null,
   "metadata": {},
   "outputs": [],
   "source": []
  },
  {
   "cell_type": "markdown",
   "metadata": {},
   "source": [
    "## Remove columns with too many unique values (to avoid overfitting)"
   ]
  },
  {
   "cell_type": "code",
   "execution_count": 22,
   "metadata": {},
   "outputs": [],
   "source": [
    "dropping_cols = ['What is first diet you have after waking up?','How do you work out everyday?','You start your day with?','How do you feel after afternoon nap?', 'Do you have any of the following general health conditions?']\n",
    "dataset.drop(dropping_cols, axis=1, inplace=True)"
   ]
  },
  {
   "cell_type": "code",
   "execution_count": null,
   "metadata": {},
   "outputs": [],
   "source": []
  },
  {
   "cell_type": "markdown",
   "metadata": {},
   "source": [
    "## Unique Values of Dataset columns after removing irrelevant columns"
   ]
  },
  {
   "cell_type": "code",
   "execution_count": 64,
   "metadata": {},
   "outputs": [
    {
     "name": "stdout",
     "output_type": "stream",
     "text": [
      "column Unique_column_values\n",
      "Branch ['IT' 'CSE' 'Mech' 'ETC' 'Civil' 'EE' 'EEE' 'Others']\n",
      "Year [2 1 3 4]\n",
      "College ['BIT' 'Others']\n",
      "Gender ['Male' 'Female']\n",
      "Do you feel Depressed? ['Several days' 'Not at all' 'Nearly every day'\n",
      " 'More than half of  the days']\n",
      "When do you get up in the morning? ['6 AM- 7AM' '7AM-8AM' 'After 8AM' 'Before 6 am']\n",
      "What is your sleeping posture? ['Facing right side' 'Facing left sie' 'Back' 'Straight' 'Facing left side']\n",
      "How much time do you spend in exercising daily? ['None' '> half an hour' '15 min' 'half an hour']\n",
      "Do you take afternoon nap? ['No' 'Yes']\n",
      "What is average usage duration of electronic gadgets by you? ['2-3hours' '> 3hours' '1-2hours' '1 hour']\n",
      "What is your sleeping pattern? ['Sound sleep' 'Broken sleep' 'Insomania' 'Sleep with scary or bad dreams']\n",
      "Do you have trouble in falling asleep? ['Not at all' 'Every day' 'Few days' 'HALF OF A WEEK' 'Situation depends'\n",
      " 'Very few days' 'Sometimes when i am too tired ']\n",
      "Do you feel that you are useful and needed? ['Some of the time' 'Most of time' 'Good part of time'\n",
      " 'A little of the time']\n",
      "Moving or speaking so slowly that other people could have noticed ['Some of the time' 'A little of the time' 'Good part of time'\n",
      " 'Most of time']\n",
      "Poor Appetite or overeating ['Not at all' 'Several days' 'More than half of days' 'Nearly everyday']\n",
      "Do you have gradual loss or gain in weight? ['No' 'Slight' 'severe or obvious']\n",
      "Do you feel more irritable than usual? ['Some of the time' 'A little of the time' 'Good part of time'\n",
      " 'Most of time']\n",
      "Do you get tired for no reason? ['A little of the time' 'Some of the time' 'Most of the time'\n",
      " 'Good part of the time']\n",
      "Have you had nausea? ['Sometimes' 'Never' 'Always' 'only sickness' 'Mostly' 'Not sure'\n",
      " 'during migrane attacks' 'Like once in a month']\n",
      "Do you feel that life isn't worth living? ['Not at all' 'Most of the time' 'Some of the time' 'A little of time']\n",
      "Things have been getting on top of me ['Yes,most of time i have not been able to cope at all'\n",
      " 'No,most of time i have coped quite well'\n",
      " 'No,i have been coping as well as ever'\n",
      " 'Yes, somtimes i have not been coping as well as usual']\n",
      "Do you frequently smoke or drink? ['Not at all' 'A little of time' 'Most of the time' 'Some of the time']\n",
      "Do you often suffer from constipation? ['Not at all' 'A little of time' 'Some of the time' 'Most of the time']\n",
      "Relationship status ['Single' \"It's complicated\" 'In relationship']\n",
      "Do you worry about the past? ['Most of the time' 'Some of the time' 'A Little of the time' 'Not at all']\n",
      "Do you feel Nostalgic? ['Most of the time' 'Some of the time' 'A Little of the time' 'Not at all']\n",
      "Have you often felt like crying for no reason? ['Not at all' 'Some of the time' 'A little of time' 'Most of the time']\n",
      "How often does your grades and college work suffer because of the amount of time you spend online? ['A little of time' 'Most of the time' 'Some of the time' 'Not at all']\n",
      "How do you feel after seeing post on success of people on social sites? ['Neutral' 'Happy and motivated' 'Jealous' 'Sad']\n",
      "How often do you get angry at small things ? ['Some of the time' 'Most of the time' 'A little of time' 'Not at all']\n",
      "Do you often feel restless and can't keep still ? ['Not at all' 'A little of time' 'Most of the time' 'Some of the time']\n",
      "Do you feel happy? ['Most of the time' 'Some of the time' 'Not at all' 'A little of time']\n",
      "Have you blamed yourself unnecessarily when things went wrong? ['Some of the time' 'Not at all' 'Not very often' '0' 'Most of the time']\n",
      "Do you prefer to stay at home,rather than going out and doing new things? ['Some of the time' 'A little of time' 'Most of the time' 'Not at all' '0']\n",
      "Are you satisfied with your life? ['Some of the time' 'A little of time' 'Most of the time' 'Not at all']\n",
      "Do you think about suicide ? ['No' 'Yes, Attempted' 'Suicidal ideas and gestures but no attempt']\n"
     ]
    }
   ],
   "source": [
    "print 'column Unique_column_values'\n",
    "for col in dataset:\n",
    "    print col, dataset[col].unique()"
   ]
  },
  {
   "cell_type": "code",
   "execution_count": null,
   "metadata": {},
   "outputs": [],
   "source": []
  },
  {
   "cell_type": "markdown",
   "metadata": {},
   "source": [
    "## Split dataset into features & target dataset"
   ]
  },
  {
   "cell_type": "code",
   "execution_count": 25,
   "metadata": {},
   "outputs": [],
   "source": [
    "dataset_features = dataset.drop(['Do you think about suicide ?'], axis=1)\n",
    "dataset_target = pd.DataFrame(dataset['Do you think about suicide ?'])"
   ]
  },
  {
   "cell_type": "code",
   "execution_count": null,
   "metadata": {},
   "outputs": [],
   "source": []
  },
  {
   "cell_type": "markdown",
   "metadata": {},
   "source": [
    "## Encode Features into incremental numeric values"
   ]
  },
  {
   "cell_type": "code",
   "execution_count": 40,
   "metadata": {},
   "outputs": [],
   "source": [
    "le = LabelEncoder()"
   ]
  },
  {
   "cell_type": "code",
   "execution_count": 42,
   "metadata": {},
   "outputs": [],
   "source": [
    "for col in dataset_features:\n",
    "    dataset_features[col] = le.fit_transform(dataset_features[col])"
   ]
  },
  {
   "cell_type": "code",
   "execution_count": null,
   "metadata": {},
   "outputs": [],
   "source": []
  },
  {
   "cell_type": "markdown",
   "metadata": {},
   "source": [
    "## Split dataset into train-set & test-set (75% trainset, 25% test-set)"
   ]
  },
  {
   "cell_type": "code",
   "execution_count": 44,
   "metadata": {},
   "outputs": [],
   "source": [
    "x_train, x_test, y_train, y_test = train_test_split(dataset_features, dataset_target, test_size=0.25, random_state=42)"
   ]
  },
  {
   "cell_type": "code",
   "execution_count": 61,
   "metadata": {},
   "outputs": [
    {
     "name": "stdout",
     "output_type": "stream",
     "text": [
      "Train-set shape (594, 35) (594, 1)\n",
      "Test-set shape (198, 35) (198, 1)\n"
     ]
    }
   ],
   "source": [
    "print 'Train-set shape',x_train.shape, y_train.shape\n",
    "print 'Test-set shape', x_test.shape, y_test.shape"
   ]
  },
  {
   "cell_type": "code",
   "execution_count": null,
   "metadata": {},
   "outputs": [],
   "source": []
  },
  {
   "cell_type": "markdown",
   "metadata": {},
   "source": [
    "## Generate the prediction model with train-set"
   ]
  },
  {
   "cell_type": "code",
   "execution_count": 46,
   "metadata": {},
   "outputs": [],
   "source": [
    "model = LGBMClassifier(n_estimators=20)"
   ]
  },
  {
   "cell_type": "code",
   "execution_count": 47,
   "metadata": {},
   "outputs": [],
   "source": [
    "model_fit = model.fit(x_train, y_train)"
   ]
  },
  {
   "cell_type": "code",
   "execution_count": null,
   "metadata": {},
   "outputs": [],
   "source": []
  },
  {
   "cell_type": "markdown",
   "metadata": {},
   "source": [
    "## Save the model"
   ]
  },
  {
   "cell_type": "code",
   "execution_count": 49,
   "metadata": {},
   "outputs": [],
   "source": [
    "model_file = 'sd_model.pkl'"
   ]
  },
  {
   "cell_type": "code",
   "execution_count": 50,
   "metadata": {},
   "outputs": [],
   "source": [
    "with open(model_file, 'wb') as fp:\n",
    "     pickle.dump(model_fit, fp)"
   ]
  },
  {
   "cell_type": "code",
   "execution_count": null,
   "metadata": {},
   "outputs": [],
   "source": []
  },
  {
   "cell_type": "markdown",
   "metadata": {},
   "source": [
    "## Load the Model"
   ]
  },
  {
   "cell_type": "code",
   "execution_count": 51,
   "metadata": {},
   "outputs": [],
   "source": [
    "model_file = 'sd_model.pkl'"
   ]
  },
  {
   "cell_type": "code",
   "execution_count": 52,
   "metadata": {},
   "outputs": [],
   "source": [
    "with open(model_file, 'rb') as fp:\n",
    "     model_fit = pickle.load(fp)"
   ]
  },
  {
   "cell_type": "code",
   "execution_count": null,
   "metadata": {},
   "outputs": [],
   "source": []
  },
  {
   "cell_type": "markdown",
   "metadata": {},
   "source": [
    "## Prediction on test-set"
   ]
  },
  {
   "cell_type": "code",
   "execution_count": 56,
   "metadata": {},
   "outputs": [
    {
     "name": "stdout",
     "output_type": "stream",
     "text": [
      "['No' 'No' 'No' 'No' 'No' 'No' 'No' 'No' 'No'\n",
      " 'Suicidal ideas and gestures but no attempt' 'No' 'No' 'No' 'No' 'No'\n",
      " 'Suicidal ideas and gestures but no attempt' 'No' 'No' 'No' 'No' 'No' 'No'\n",
      " 'No' 'No' 'No' 'No' 'Suicidal ideas and gestures but no attempt' 'No' 'No'\n",
      " 'No' 'No' 'No' 'No' 'No' 'No' 'No' 'No' 'No' 'No' 'No' 'No' 'No' 'No' 'No'\n",
      " 'No' 'No' 'No' 'No' 'No' 'No' 'No' 'No' 'No' 'No' 'No' 'No' 'No' 'No' 'No'\n",
      " 'No' 'No' 'No' 'No' 'No' 'No' 'No' 'No'\n",
      " 'Suicidal ideas and gestures but no attempt' 'No' 'No' 'No' 'No' 'No' 'No'\n",
      " 'No' 'No' 'No' 'No' 'No' 'No' 'No'\n",
      " 'Suicidal ideas and gestures but no attempt' 'No' 'No' 'No' 'No' 'No' 'No'\n",
      " 'No' 'No' 'No' 'No' 'No' 'No' 'No' 'No' 'No' 'No' 'No' 'No' 'No' 'No' 'No'\n",
      " 'No' 'No' 'No' 'No' 'No' 'No' 'No' 'No' 'No' 'No' 'No' 'No' 'No' 'No' 'No'\n",
      " 'No' 'No' 'No' 'Suicidal ideas and gestures but no attempt' 'No' 'No' 'No'\n",
      " 'No' 'No' 'No' 'No' 'No' 'No' 'No'\n",
      " 'Suicidal ideas and gestures but no attempt' 'No' 'No'\n",
      " 'Suicidal ideas and gestures but no attempt' 'No' 'No'\n",
      " 'Suicidal ideas and gestures but no attempt'\n",
      " 'Suicidal ideas and gestures but no attempt' 'No' 'No' 'No' 'No' 'No' 'No'\n",
      " 'No' 'No' 'No' 'No' 'No' 'No' 'No' 'No' 'No' 'No' 'Yes, Attempted' 'No'\n",
      " 'No' 'No' 'No' 'No' 'No' 'No' 'No' 'No' 'No' 'No' 'No' 'No' 'No' 'No' 'No'\n",
      " 'No' 'No' 'No' 'No' 'No' 'No' 'No' 'No'\n",
      " 'Suicidal ideas and gestures but no attempt' 'No' 'No' 'No' 'No'\n",
      " 'Suicidal ideas and gestures but no attempt' 'No' 'No'\n",
      " 'Suicidal ideas and gestures but no attempt' 'No'\n",
      " 'Suicidal ideas and gestures but no attempt' 'No' 'No' 'No' 'No' 'No' 'No']\n"
     ]
    }
   ],
   "source": [
    "y_predict = model_fit.predict(x_test)\n",
    "print y_predict"
   ]
  },
  {
   "cell_type": "code",
   "execution_count": null,
   "metadata": {},
   "outputs": [],
   "source": []
  },
  {
   "cell_type": "markdown",
   "metadata": {},
   "source": [
    "## Prediction Metrics"
   ]
  },
  {
   "cell_type": "code",
   "execution_count": 60,
   "metadata": {},
   "outputs": [
    {
     "name": "stdout",
     "output_type": "stream",
     "text": [
      " Accuracy: 0.843434343434\n",
      "F1-score: 0.528657177689\n"
     ]
    }
   ],
   "source": [
    "print 'Accuracy:', accuracy_score(y_test, y_predict)\n",
    "print 'F1-score:', f1_score(y_test, y_predict, average='macro')"
   ]
  },
  {
   "cell_type": "code",
   "execution_count": null,
   "metadata": {},
   "outputs": [],
   "source": []
  },
  {
   "cell_type": "code",
   "execution_count": null,
   "metadata": {},
   "outputs": [],
   "source": []
  }
 ],
 "metadata": {
  "kernelspec": {
   "display_name": "Python 2",
   "language": "python",
   "name": "python2"
  },
  "language_info": {
   "codemirror_mode": {
    "name": "ipython",
    "version": 2
   },
   "file_extension": ".py",
   "mimetype": "text/x-python",
   "name": "python",
   "nbconvert_exporter": "python",
   "pygments_lexer": "ipython2",
   "version": "2.7.12"
  }
 },
 "nbformat": 4,
 "nbformat_minor": 2
}
